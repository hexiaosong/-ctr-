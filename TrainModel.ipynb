{
 "cells": [
  {
   "cell_type": "code",
   "execution_count": 1,
   "metadata": {},
   "outputs": [],
   "source": [
    "import pandas as pd\n",
    "import numpy as np\n",
    "import matplotlib.pyplot as plt\n",
    "from matplotlib import pyplot\n",
    "import seaborn as sns\n",
    "color = sns.color_palette()\n",
    "\n",
    "from xgboost import XGBClassifier\n",
    "import xgboost as xgb\n",
    "\n",
    "from sklearn.model_selection import GridSearchCV\n",
    "from sklearn.model_selection import StratifiedKFold\n",
    "from sklearn import metrics\n",
    "from sklearn.metrics import log_loss\n",
    "from sklearn.datasets import load_svmlight_file\n",
    "\n",
    "import datetime\n",
    "import gc\n",
    "%matplotlib inline"
   ]
  },
  {
   "cell_type": "markdown",
   "metadata": {},
   "source": [
    "读入数据"
   ]
  },
  {
   "cell_type": "code",
   "execution_count": 3,
   "metadata": {},
   "outputs": [],
   "source": [
    "train_data = './data/submission_3_24_0_train.txt'\n",
    "dtrain = xgb.DMatrix(train_data, missing = -1)\n",
    "#valid_data = './data/submission_3_24_valid.txt'\n",
    "#dvalid = xgb.DMatrix(valid_data, missing = -1)\n",
    "test_data = './data/submission_3_24_0_test.txt'\n",
    "dtest = xgb.DMatrix(test_data, missing = -1)"
   ]
  },
  {
   "cell_type": "code",
   "execution_count": 3,
   "metadata": {},
   "outputs": [],
   "source": [
    "train_data = pd.read_csv('./data/baseline_5_train.txt')\n",
    "test_data = pd.read_csv('./data/baseline_5_test.txt')\n",
    "y_train = train_data[\"is_trade\"]\n",
    "x_train = train_data.drop([\"is_trade\"],axis=1)\n",
    "y_test = test_data[\"is_trade\"]\n",
    "x_test = test_data.drop([\"is_trade\"],axis=1)\n",
    "dtrain = xgb.DMatrix(x_train, label = y_train, missing = -1)\n",
    "dtest = xgb.DMatrix(x_test, label = y_test, missing = -1)"
   ]
  },
  {
   "cell_type": "code",
   "execution_count": null,
   "metadata": {},
   "outputs": [],
   "source": [
    "kfold = StratifiedKFold(n_splits=5, shuffle=True, random_state=3)"
   ]
  },
  {
   "cell_type": "code",
   "execution_count": 6,
   "metadata": {},
   "outputs": [],
   "source": [
    "def modelfit(alg, dtrain, useTrainCV=True, cv_folds=None, early_stopping_rounds=10):\n",
    "    \n",
    "    if useTrainCV:\n",
    "        xgb_param = alg.get_xgb_params()\n",
    "        \n",
    "        xgtrain = dtrain\n",
    "        \n",
    "        cvresult = xgb.cv(xgb_param, xgtrain, num_boost_round=alg.get_params()['n_estimators'], folds =cv_folds,\n",
    "             metrics=['auc','logloss'], early_stopping_rounds=early_stopping_rounds, verbose_eval=True)\n",
    "        \n",
    "        n_estimators = cvresult.shape[0]\n",
    "        alg.set_params(n_estimators = n_estimators)\n",
    "        \n",
    "        #print(cvresult)\n",
    "        #result = pd.DataFrame(cvresult)   #cv缺省返回结果为DataFrame\n",
    "        #result.to_csv('my_preds.csv', index_label = 'n_estimators')\n",
    "        \n",
    "        # plot\n",
    "        #test_means = cvresult['test-logloss-mean']\n",
    "        #test_stds = cvresult['test-logloss-std'] \n",
    "        \n",
    "        #train_means = cvresult['train-logloss-mean']\n",
    "        #train_stds = cvresult['train-logloss-std'] \n",
    "\n",
    "        #x_axis = range(0, n_estimators)\n",
    "        #pyplot.errorbar(x_axis, test_means, yerr=test_stds ,label='Test')\n",
    "        #pyplot.errorbar(x_axis, train_means, yerr=train_stds ,label='Train')\n",
    "        #pyplot.title(\"XGBoost n_estimators vs Log Loss\")\n",
    "        #pyplot.xlabel( 'n_estimators' )\n",
    "        #pyplot.ylabel( 'Log Loss' )\n",
    "        #pyplot.savefig( 'n_estimators_2.png' )"
   ]
  },
  {
   "cell_type": "markdown",
   "metadata": {},
   "source": [
    "找初始合适值"
   ]
  },
  {
   "cell_type": "code",
   "execution_count": null,
   "metadata": {},
   "outputs": [],
   "source": [
    "xgb1 = XGBClassifier(\n",
    "        learning_rate =0.1,\n",
    "        n_estimators=1000,  #数值大没关系，cv会自动返回合适的n_estimators\n",
    "        max_depth=9,\n",
    "        min_child_weight=64,\n",
    "        #max_delta_step = 1,\n",
    "        gamma=0,\n",
    "        subsample=0.8,\n",
    "        #scale_pos_weight = scale_pos_weight,\n",
    "        colsample_bytree=0.8,\n",
    "        colsample_bylevel=0.7,\n",
    "        objective= 'binary:logistic',\n",
    "        seed=3)\n",
    "\n",
    "\n",
    "modelfit(xgb1,dtrain, cv_folds = kfold)"
   ]
  },
  {
   "cell_type": "markdown",
   "metadata": {},
   "source": [
    "CV"
   ]
  },
  {
   "cell_type": "code",
   "execution_count": 78,
   "metadata": {},
   "outputs": [],
   "source": [
    "param_test1 = {\n",
    "    'max_depth':range(2,8,2),\n",
    "    'min_child_weight':range(48,78,5)\n",
    "}\n",
    "gsearch1 = GridSearchCV(estimator = XGBClassifier(learning_rate=0.1, n_estimators=115, max_depth=2, min_child_weight=48, gamma=0, subsample=0.8,\n",
    "           colsample_bytree=0.8, colsample_bylevel=0.7, objective= 'binary:logistic',seed=3), \n",
    "           param_grid = param_test1, refit = True, scoring='neg_log_loss', n_jobs=6, verbose=2, cv=5)\n",
    "gsearch1.fit(x_train,y_train)"
   ]
  },
  {
   "cell_type": "code",
   "execution_count": null,
   "metadata": {},
   "outputs": [],
   "source": [
    "gsearch.grid_scores_, gsearch.best_params_, gsearch.best_score_"
   ]
  },
  {
   "cell_type": "code",
   "execution_count": null,
   "metadata": {},
   "outputs": [],
   "source": [
    "params ={'eta':0.1,\n",
    "        'n_estimators':117,\n",
    "        'max_depth':9,\n",
    "        'min_child_weight':64,\n",
    "        #'max_delta_step':1,\n",
    "        'gamma':0,\n",
    "        'subsample':0.8,\n",
    "        'colsample_bytree':0.8,\n",
    "        'colsample_bylevel':0.7,\n",
    "        'objective':'binary:logistic',\n",
    "        'eval_metric':'logloss',\n",
    "         'alpha':0,\n",
    "         'lambda':1,\n",
    "        'seed':3}\n",
    "\n",
    "#modelfit_libsvm(params, train_data, cv_folds = kfold)\n",
    "#Fit the algorithm on the data\n",
    "xgb1 = xgb.train(params, dtrain, num_boost_round=params['n_estimators'], early_stopping_rounds=10, evals = [(dtrain,'train'),(dtest,'valid')]) \n",
    "        \n",
    "#Predict training set:\n",
    "#train_predprob = xgb1.predict_proba(x_train)\n",
    "#logloss = log_loss(y_train, train_predprob)\n",
    "\n",
    "        \n",
    "#Print model report:\n",
    "#print(\"logloss of train :\" )\n",
    "#print(logloss)"
   ]
  },
  {
   "cell_type": "code",
   "execution_count": null,
   "metadata": {},
   "outputs": [],
   "source": [
    "test_predprob = xgb1.predict_proba(x_test)\n",
    "logloss = log_loss(y_test, test_predprob[:,1])\n",
    "         \n",
    "#输出模型的一些结果\n",
    "print(\"\\n关于现在这个模型 (测试集)\")\n",
    "print(\"AUC 得分: %f\" % metrics.roc_auc_score(y_test, test_predprob[:,1]))\n",
    "print(\"logloss:\", logloss)"
   ]
  },
  {
   "cell_type": "markdown",
   "metadata": {},
   "source": [
    "转成提交格式"
   ]
  },
  {
   "cell_type": "code",
   "execution_count": 6,
   "metadata": {},
   "outputs": [],
   "source": [
    "test_predprob = xgb1.predict(dtest)\n",
    "path = './data/'\n",
    "test_data = pd.read_table(path+'test.txt',sep=' ')\n",
    "test_data = test_data.drop_duplicates()\n",
    "test_data = test_data.sort_values('context_timestamp')\n",
    "test_data = test_data.reset_index()\n",
    "test_data['predicted_score'] = test_predprob\n",
    "test_data.set_index('index',inplace=True)\n",
    "test_data.sort_index(inplace=True)\n",
    "result = test_data[['instance_id','predicted_score']]\n",
    "result.to_csv(path+'output_submission_26.txt',sep=' ',index = False)"
   ]
  },
  {
   "cell_type": "code",
   "execution_count": null,
   "metadata": {},
   "outputs": [],
   "source": [
    "转成提交格式（分类版）"
   ]
  },
  {
   "cell_type": "code",
   "execution_count": 101,
   "metadata": {},
   "outputs": [],
   "source": [
    "path = './data/'\n",
    "sub_1 = pd.read_table(path+'submission_instance.txt',sep=' ',header = None)\n",
    "sub_1['is_trade'] = test_predprob_1"
   ]
  },
  {
   "cell_type": "code",
   "execution_count": 107,
   "metadata": {},
   "outputs": [],
   "source": [
    "sub_0 = pd.read_table(path+'submission_instance_0.txt',sep=' ',header = None)\n",
    "sub_0['is_trade'] = test_predprob_0"
   ]
  },
  {
   "cell_type": "code",
   "execution_count": 118,
   "metadata": {},
   "outputs": [],
   "source": [
    "result = pd.concat([sub_0,sub_1]).sort_values(0)['is_trade'].values"
   ]
  },
  {
   "cell_type": "code",
   "execution_count": 124,
   "metadata": {},
   "outputs": [],
   "source": [
    "path = './data/'\n",
    "test_data = pd.read_table(path+'test.txt',sep=' ')\n",
    "test_data = test_data.drop_duplicates()\n",
    "test_data = test_data.sort_values('context_timestamp')\n",
    "test_data = test_data.reset_index()\n",
    "test_data['predicted_score'] = result\n",
    "test_data.set_index('index',inplace=True)\n",
    "test_data.sort_index(inplace=True)\n",
    "submission = test_data[['instance_id','predicted_score']]\n",
    "submission.to_csv(path+'output_submission_gbdt.txt',sep=' ',index = False)"
   ]
  },
  {
   "cell_type": "markdown",
   "metadata": {},
   "source": [
    "特征重要性"
   ]
  },
  {
   "cell_type": "code",
   "execution_count": null,
   "metadata": {},
   "outputs": [],
   "source": [
    "fig, ax = pyplot.subplots(figsize=(36,56))\n",
    "xgb.plot_importance(xgb1, max_num_features=500, height=0.8,ax=ax)\n",
    "pyplot.savefig( 'featim_xgb_baseline.png' )\n",
    "pyplot.show()"
   ]
  }
 ],
 "metadata": {
  "kernelspec": {
   "display_name": "Python 3",
   "language": "python",
   "name": "python3"
  },
  "language_info": {
   "codemirror_mode": {
    "name": "ipython",
    "version": 3
   },
   "file_extension": ".py",
   "mimetype": "text/x-python",
   "name": "python",
   "nbconvert_exporter": "python",
   "pygments_lexer": "ipython3",
   "version": "3.6.3"
  }
 },
 "nbformat": 4,
 "nbformat_minor": 2
}
